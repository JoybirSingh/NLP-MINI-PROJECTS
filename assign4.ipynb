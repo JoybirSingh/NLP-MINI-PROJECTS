{
  "nbformat": 4,
  "nbformat_minor": 0,
  "metadata": {
    "colab": {
      "provenance": [],
      "include_colab_link": true
    },
    "kernelspec": {
      "name": "python3",
      "display_name": "Python 3"
    },
    "language_info": {
      "name": "python"
    }
  },
  "cells": [
    {
      "cell_type": "markdown",
      "metadata": {
        "id": "view-in-github",
        "colab_type": "text"
      },
      "source": [
        "<a href=\"https://colab.research.google.com/github/JoybirSingh/NLP-MINI-PROJECTS/blob/main/assign4.ipynb\" target=\"_parent\"><img src=\"https://colab.research.google.com/assets/colab-badge.svg\" alt=\"Open In Colab\"/></a>"
      ]
    },
    {
      "cell_type": "code",
      "execution_count": null,
      "metadata": {
        "colab": {
          "base_uri": "https://localhost:8080/"
        },
        "id": "1NROR90frfEu",
        "outputId": "c53ff50b-327f-424e-f1e2-40a28275a5a8"
      },
      "outputs": [
        {
          "output_type": "stream",
          "name": "stdout",
          "text": [
            "Hindi Content:\n",
            "इमेज स्रोत, ANI \n",
            "पश्चिम बंगाल के दार्जिलिंग में हुए एक रेल हादसे में 9 लोगों की मौत हो गई है. इस हादसे में 46 लोग घायल भी हुए हैं.\n",
            "नॉर्थ फ्रंटियर रेलवे के प्रवक्ता ने बीबीसी हिंदी को बताया, \"हादसे में अब तक कुल 9 लोगों की मौत हुई है, जबकि 46 लोग घायल हुए हैं. हादसे की वजह से इलाके में 8 ट्रेनें रद्द हुई हैं, जबकि 24 ट्रेनों के रूट बदले गए हैं.\"\n",
            "रेलवे के मुताबिक मरने वालों में तीन रेलवे कर्मचारी हैं. \n",
            "यह हादसा सोमवार सुबह क़रीब पौने 9 बजे हुआ है.\n",
            "जिस वक़्त यह हादसा हुआ उस वक़्त कंचनजंघा एक्सप्रेस\n",
            "\n",
            "English Content:\n",
            "Eight people have died and around 60 have been injured in a train crash in the eastern Indian state of West Bengal.\n",
            "The accident occurred when a goods train hit a stationary passenger train, the Kanchenjungha Express, in the New Jalpaiguri area on Monday morning.\n",
            "Dramatic visuals from the accident site showed one wagon of the express train suspended in the air.\n",
            "Authorities say \"human error\" may have led to the crash and a detailed investigation will be held. \n",
            "Officials said ambulances and disast\n"
          ]
        }
      ],
      "source": [
        "import requests\n",
        "from bs4 import BeautifulSoup\n",
        "\n",
        "def scrape_article(url):\n",
        "    response = requests.get(url)\n",
        "    if response.status_code == 200:\n",
        "        soup = BeautifulSoup(response.content, 'lxml')\n",
        "        article = soup.find('article')\n",
        "        if article:\n",
        "            paragraphs = article.find_all('p')\n",
        "            return '\\n'.join(p.text for p in paragraphs)\n",
        "    return None\n",
        "\n",
        "# for hindi\n",
        "def scrape_article_hindi(url):\n",
        "  response = requests.get(url)\n",
        "  if response.status_code == 200:\n",
        "    soup = BeautifulSoup(response.content, 'lxml')\n",
        "    article = soup.find('main')\n",
        "    if article:\n",
        "      paragraphs = article.find_all('p')\n",
        "      return '\\n'.join(p.text for p in paragraphs)\n",
        "  return None\n",
        "\n",
        "# Example URLs for BBC News in Hindi and English\n",
        "hindi_url = 'https://www.bbc.com/hindi/articles/c4nny99n692o'\n",
        "english_url = 'https://www.bbc.com/news/articles/c0kkyvq081wo'\n",
        "\n",
        "hindi_content = scrape_article_hindi(hindi_url)\n",
        "english_content = scrape_article(english_url)\n",
        "\n",
        "print(\"Hindi Content:\")\n",
        "print(hindi_content[:500])  # Print first 500 characters\n",
        "\n",
        "print(\"\\nEnglish Content:\")\n",
        "print(english_content[:500])  # Print first 500 characters\n"
      ]
    },
    {
      "cell_type": "code",
      "source": [
        "from transformers import MarianMTModel, MarianTokenizer\n",
        "\n",
        "# Function to split text into smaller chunks\n",
        "def chunk_text(text, max_tokens, tokenizer):\n",
        "    tokens = tokenizer(text, return_tensors=\"pt\", truncation=True, padding=\"longest\")[\"input_ids\"][0]\n",
        "    chunks = []\n",
        "    while len(tokens) > max_tokens:\n",
        "        chunks.append(tokens[:max_tokens])\n",
        "        tokens = tokens[max_tokens:]\n",
        "    chunks.append(tokens)\n",
        "    return chunks\n",
        "\n",
        "# Translation function for long texts\n",
        "def translate_long_text(text, tokenizer, model, max_tokens=512):\n",
        "    chunks = chunk_text(text, max_tokens, tokenizer)\n",
        "    translated_chunks = [model.generate(chunk.unsqueeze(0)) for chunk in chunks]\n",
        "    translated_texts = [tokenizer.decode(t[0], skip_special_tokens=True) for t in translated_chunks]\n",
        "    return \" \".join(translated_texts)\n",
        "\n",
        "# Translation model setup\n",
        "model_name = 'Helsinki-NLP/opus-mt-hi-en'\n",
        "tokenizer = MarianTokenizer.from_pretrained(model_name)\n",
        "model = MarianMTModel.from_pretrained(model_name)\n",
        "\n",
        "# Translating long text\n",
        "translated_content = translate_long_text(hindi_content, tokenizer, model)\n",
        "\n",
        "print(\"Translated Content:\")\n",
        "print(translated_content[:500])  # Print first 500 characters\n"
      ],
      "metadata": {
        "colab": {
          "base_uri": "https://localhost:8080/"
        },
        "id": "usvsoBgBw1xg",
        "outputId": "cdc75a2d-935c-47a8-f652-bf949a5a729d"
      },
      "execution_count": null,
      "outputs": [
        {
          "output_type": "stream",
          "name": "stdout",
          "text": [
            "Translated Content:\n",
            "I've got 9 people killed in a traffic accident in Darga, in the wild country of ANIZA, and 46 people are injured in this accident. The government of the North African railway said, \"A total of 9 people have died in the country, while the disaster has been canceled by a group of 46 people because of the accident.\n"
          ]
        }
      ]
    },
    {
      "cell_type": "code",
      "source": [
        "from nltk.translate.bleu_score import sentence_bleu\n",
        "\n",
        "def evaluate_translation(reference, translation):\n",
        "    reference_tokens = reference.split()\n",
        "    translation_tokens = translation.split()\n",
        "    score = sentence_bleu([reference_tokens], translation_tokens)\n",
        "    return score\n",
        "\n",
        "# Assuming we have the original English content\n",
        "reference = english_content\n",
        "translation = translated_content\n",
        "\n",
        "bleu_score = evaluate_translation(reference, translation)\n",
        "print(\"BLEU Score:\", bleu_score)\n"
      ],
      "metadata": {
        "colab": {
          "base_uri": "https://localhost:8080/"
        },
        "id": "5gaE-jKnw27t",
        "outputId": "f7a503bd-5c1d-4731-ae8b-4c180bf8cc78"
      },
      "execution_count": null,
      "outputs": [
        {
          "output_type": "stream",
          "name": "stdout",
          "text": [
            "BLEU Score: 2.171057086056909e-81\n"
          ]
        }
      ]
    }
  ]
}